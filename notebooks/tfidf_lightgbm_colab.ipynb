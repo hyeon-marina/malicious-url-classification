{
  "nbformat": 4,
  "nbformat_minor": 0,
  "metadata": {
    "colab": {
      "provenance": []
    },
    "kernelspec": {
      "name": "python3",
      "display_name": "Python 3"
    },
    "language_info": {
      "name": "python"
    }
  },
  "cells": [
    {
      "cell_type": "code",
      "execution_count": null,
      "metadata": {
        "id": "aviLyikLwuPA"
      },
      "outputs": [],
      "source": [
        "# tfidf_lightgbm_colab.ipynb (또는 .py 파일로도 가능)\n",
        "\n",
        "import pandas as pd\n",
        "import numpy as np\n",
        "from sklearn.feature_extraction.text import TfidfVectorizer\n",
        "from sklearn.model_selection import StratifiedKFold\n",
        "from sklearn.metrics import roc_auc_score\n",
        "import lightgbm as lgb\n",
        "import joblib\n",
        "\n",
        "# 1. 데이터 불러오기\n",
        "train_df = pd.read_csv(\"train.csv\")\n",
        "\n",
        "# 2. TF-IDF 벡터화\n",
        "vectorizer = TfidfVectorizer(\n",
        "    analyzer='char',\n",
        "    ngram_range=(3, 5),\n",
        "    max_features=100000\n",
        ")\n",
        "X = vectorizer.fit_transform(train_df['URL'])\n",
        "y = train_df['label']\n",
        "\n",
        "# 3. 모델 학습 (3-Fold CV)\n",
        "skf = StratifiedKFold(n_splits=3, shuffle=True, random_state=42)\n",
        "auc_scores = []\n",
        "\n",
        "for fold, (train_idx, val_idx) in enumerate(skf.split(X, y)):\n",
        "    print(f\"\\n📂 Fold {fold+1}\")\n",
        "\n",
        "    X_train, X_val = X[train_idx], X[val_idx]\n",
        "    y_train, y_val = y.iloc[train_idx], y.iloc[val_idx]\n",
        "\n",
        "    model = lgb.LGBMClassifier(\n",
        "        n_estimators=100,\n",
        "        max_depth=7,\n",
        "        learning_rate=0.2,\n",
        "        subsample=0.8,\n",
        "        colsample_bytree=0.8,\n",
        "        random_state=42,\n",
        "        n_jobs=-1\n",
        "    )\n",
        "\n",
        "    model.fit(X_train, y_train)\n",
        "    val_pred = model.predict_proba(X_val)[:, 1]\n",
        "    auc = roc_auc_score(y_val, val_pred)\n",
        "    auc_scores.append(auc)\n",
        "    print(f\"✅ Fold {fold+1} ROC-AUC: {auc:.5f}\")\n",
        "\n",
        "print(\"\\n📈 平均 ROC-AUC:\", np.mean(auc_scores))\n",
        "\n",
        "# 4. 벡터화기, 모델 저장\n",
        "joblib.dump(vectorizer, \"tfidf_vectorizer.pkl\")\n",
        "joblib.dump(model, \"final_model.pkl\")\n"
      ]
    }
  ]
}