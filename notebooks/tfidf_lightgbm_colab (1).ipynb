{
  "nbformat": 4,
  "nbformat_minor": 0,
  "metadata": {
    "colab": {
      "provenance": []
    },
    "kernelspec": {
      "name": "python3",
      "display_name": "Python 3"
    },
    "language_info": {
      "name": "python"
    }
  },
  "cells": [
    {
      "cell_type": "code",
      "execution_count": null,
      "metadata": {
        "id": "aviLyikLwuPA"
      },
      "outputs": [],
      "source": [
        "# tfidf_lightgbm_colab.ipynb（または .py ファイルとしても使用可能）\n",
        "\n",
        "import pandas as pd\n",
        "import numpy as np\n",
        "from sklearn.feature_extraction.text import TfidfVectorizer\n",
        "from sklearn.model_selection import StratifiedKFold\n",
        "from sklearn.metrics import roc_auc_score\n",
        "import lightgbm as lgb\n",
        "import joblib\n",
        "\n",
        "# 1. データの読み込み\n",
        "train_df = pd.read_csv(\"train.csv\")\n",
        "\n",
        "# 2. TF-IDFベクトル化（文字 n-gram）\n",
        "vectorizer = TfidfVectorizer(\n",
        "    analyzer='char',           # 文字単位で分析\n",
        "    ngram_range=(3, 5),        # 3〜5グラム\n",
        "    max_features=100000        # 最大特徴量数\n",
        ")\n",
        "X = vectorizer.fit_transform(train_df['URL'])\n",
        "y = train_df['label']\n",
        "\n",
        "# 3. モデル学習（3分割交差検証）\n",
        "skf = StratifiedKFold(n_splits=3, shuffle=True, random_state=42)\n",
        "auc_scores = []\n",
        "\n",
        "for fold, (train_idx, val_idx) in enumerate(skf.split(X, y)):\n",
        "    print(f\"\\n📂 Fold {fold+1}\")\n",
        "\n",
        "    X_train, X_val = X[train_idx], X[val_idx]\n",
        "    y_train, y_val = y.iloc[train_idx], y.iloc[val_idx]\n",
        "\n",
        "    model = lgb.LGBMClassifier(\n",
        "        n_estimators=100,         # 決定木の数\n",
        "        max_depth=7,              # 最大深さ\n",
        "        learning_rate=0.2,        # 学習率\n",
        "        subsample=0.8,            # データのサブサンプリング\n",
        "        colsample_bytree=0.8,     # 特徴量のサブサンプリング\n",
        "        random_state=42,          # 再現性のための乱数シード\n",
        "        n_jobs=-1                 # 並列処理\n",
        "    )\n",
        "\n",
        "    model.fit(X_train, y_train)\n",
        "    val_pred = model.predict_proba(X_val)[:, 1]\n",
        "    auc = roc_auc_score(y_val, val_pred)\n",
        "    auc_scores.append(auc)\n",
        "    print(f\"✅ Fold {fold+1} ROC-AUC: {auc:.5f}\")\n",
        "\n",
        "print(\"\\n📈 平均 ROC-AUC:\", np.mean(auc_scores))\n",
        "\n",
        "# 4. ベクトライザーとモデルの保存\n",
        "joblib.dump(vectorizer, \"tfidf_vectorizer.pkl\")\n",
        "joblib.dump(model, \"final_model.pkl\")\n"
      ]
    }
  ]
}